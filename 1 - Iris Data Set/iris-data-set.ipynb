{
 "cells": [
  {
   "cell_type": "markdown",
   "id": "d1e870e7",
   "metadata": {},
   "source": [
    "ML: Classification\n",
    "<br>Predicted attribute: class of iris plant."
   ]
  },
  {
   "cell_type": "code",
   "execution_count": null,
   "id": "eb9b915f",
   "metadata": {},
   "outputs": [],
   "source": []
  },
  {
   "cell_type": "code",
   "execution_count": null,
   "id": "dc127355",
   "metadata": {},
   "outputs": [],
   "source": []
  },
  {
   "cell_type": "code",
   "execution_count": null,
   "id": "af823a94",
   "metadata": {},
   "outputs": [],
   "source": []
  },
  {
   "cell_type": "markdown",
   "id": "42ef3afa",
   "metadata": {},
   "source": [
    "A. Dataset Exploration"
   ]
  },
  {
   "cell_type": "code",
   "execution_count": 1,
   "id": "eb44ba32",
   "metadata": {},
   "outputs": [],
   "source": [
    "import pandas as pd\n",
    "%matplotlib inline\n",
    "import seaborn as sn\n",
    "import matplotlib.pyplot as plt\n",
    "pd.set_option('display.max_rows', 500)\n",
    "pd.set_option('display.max_columns', 500)\n",
    "pd.set_option('display.width', 1000)"
   ]
  },
  {
   "cell_type": "code",
   "execution_count": 2,
   "id": "239d7cfe",
   "metadata": {},
   "outputs": [
    {
     "data": {
      "text/html": [
       "<div>\n",
       "<style scoped>\n",
       "    .dataframe tbody tr th:only-of-type {\n",
       "        vertical-align: middle;\n",
       "    }\n",
       "\n",
       "    .dataframe tbody tr th {\n",
       "        vertical-align: top;\n",
       "    }\n",
       "\n",
       "    .dataframe thead th {\n",
       "        text-align: right;\n",
       "    }\n",
       "</style>\n",
       "<table border=\"1\" class=\"dataframe\">\n",
       "  <thead>\n",
       "    <tr style=\"text-align: right;\">\n",
       "      <th></th>\n",
       "      <th>sepal_length</th>\n",
       "      <th>sepal_width</th>\n",
       "      <th>petal_length</th>\n",
       "      <th>petal_width</th>\n",
       "      <th>class</th>\n",
       "    </tr>\n",
       "  </thead>\n",
       "  <tbody>\n",
       "    <tr>\n",
       "      <th>0</th>\n",
       "      <td>5.1</td>\n",
       "      <td>3.5</td>\n",
       "      <td>1.4</td>\n",
       "      <td>0.2</td>\n",
       "      <td>Iris-setosa</td>\n",
       "    </tr>\n",
       "    <tr>\n",
       "      <th>1</th>\n",
       "      <td>4.9</td>\n",
       "      <td>3.0</td>\n",
       "      <td>1.4</td>\n",
       "      <td>0.2</td>\n",
       "      <td>Iris-setosa</td>\n",
       "    </tr>\n",
       "    <tr>\n",
       "      <th>2</th>\n",
       "      <td>4.7</td>\n",
       "      <td>3.2</td>\n",
       "      <td>1.3</td>\n",
       "      <td>0.2</td>\n",
       "      <td>Iris-setosa</td>\n",
       "    </tr>\n",
       "    <tr>\n",
       "      <th>3</th>\n",
       "      <td>4.6</td>\n",
       "      <td>3.1</td>\n",
       "      <td>1.5</td>\n",
       "      <td>0.2</td>\n",
       "      <td>Iris-setosa</td>\n",
       "    </tr>\n",
       "    <tr>\n",
       "      <th>4</th>\n",
       "      <td>5.0</td>\n",
       "      <td>3.6</td>\n",
       "      <td>1.4</td>\n",
       "      <td>0.2</td>\n",
       "      <td>Iris-setosa</td>\n",
       "    </tr>\n",
       "    <tr>\n",
       "      <th>5</th>\n",
       "      <td>5.4</td>\n",
       "      <td>3.9</td>\n",
       "      <td>1.7</td>\n",
       "      <td>0.4</td>\n",
       "      <td>Iris-setosa</td>\n",
       "    </tr>\n",
       "    <tr>\n",
       "      <th>6</th>\n",
       "      <td>4.6</td>\n",
       "      <td>3.4</td>\n",
       "      <td>1.4</td>\n",
       "      <td>0.3</td>\n",
       "      <td>Iris-setosa</td>\n",
       "    </tr>\n",
       "    <tr>\n",
       "      <th>7</th>\n",
       "      <td>5.0</td>\n",
       "      <td>3.4</td>\n",
       "      <td>1.5</td>\n",
       "      <td>0.2</td>\n",
       "      <td>Iris-setosa</td>\n",
       "    </tr>\n",
       "    <tr>\n",
       "      <th>8</th>\n",
       "      <td>4.4</td>\n",
       "      <td>2.9</td>\n",
       "      <td>1.4</td>\n",
       "      <td>0.2</td>\n",
       "      <td>Iris-setosa</td>\n",
       "    </tr>\n",
       "    <tr>\n",
       "      <th>9</th>\n",
       "      <td>4.9</td>\n",
       "      <td>3.1</td>\n",
       "      <td>1.5</td>\n",
       "      <td>0.1</td>\n",
       "      <td>Iris-setosa</td>\n",
       "    </tr>\n",
       "  </tbody>\n",
       "</table>\n",
       "</div>"
      ],
      "text/plain": [
       "   sepal_length  sepal_width  petal_length  petal_width        class\n",
       "0           5.1          3.5           1.4          0.2  Iris-setosa\n",
       "1           4.9          3.0           1.4          0.2  Iris-setosa\n",
       "2           4.7          3.2           1.3          0.2  Iris-setosa\n",
       "3           4.6          3.1           1.5          0.2  Iris-setosa\n",
       "4           5.0          3.6           1.4          0.2  Iris-setosa\n",
       "5           5.4          3.9           1.7          0.4  Iris-setosa\n",
       "6           4.6          3.4           1.4          0.3  Iris-setosa\n",
       "7           5.0          3.4           1.5          0.2  Iris-setosa\n",
       "8           4.4          2.9           1.4          0.2  Iris-setosa\n",
       "9           4.9          3.1           1.5          0.1  Iris-setosa"
      ]
     },
     "execution_count": 2,
     "metadata": {},
     "output_type": "execute_result"
    }
   ],
   "source": [
    "df = pd.read_csv(\"data/bezdekIris.data\", names = [\"sepal_length\", \"sepal_width\", \"petal_length\", \"petal_width\", \"class\"])\n",
    "df.head(10)"
   ]
  },
  {
   "cell_type": "markdown",
   "id": "ecfe5ce0",
   "metadata": {},
   "source": [
    "q1: distribution of classes in sample?\n",
    "<br>a1: balanced dataset - 33% across all"
   ]
  },
  {
   "cell_type": "code",
   "execution_count": 3,
   "id": "0e479390",
   "metadata": {},
   "outputs": [
    {
     "data": {
      "text/plain": [
       "Iris-versicolor    0.333333\n",
       "Iris-setosa        0.333333\n",
       "Iris-virginica     0.333333\n",
       "Name: class, dtype: float64"
      ]
     },
     "execution_count": 3,
     "metadata": {},
     "output_type": "execute_result"
    }
   ],
   "source": [
    "df[\"class\"].value_counts(normalize=True)"
   ]
  },
  {
   "cell_type": "markdown",
   "id": "fb542a29",
   "metadata": {},
   "source": [
    "q2: any missing dataset?\n",
    "<br>a2: none"
   ]
  },
  {
   "cell_type": "code",
   "execution_count": 4,
   "id": "ad0b0e92",
   "metadata": {},
   "outputs": [
    {
     "name": "stdout",
     "output_type": "stream",
     "text": [
      "<class 'pandas.core.frame.DataFrame'>\n",
      "RangeIndex: 150 entries, 0 to 149\n",
      "Data columns (total 5 columns):\n",
      " #   Column        Non-Null Count  Dtype  \n",
      "---  ------        --------------  -----  \n",
      " 0   sepal_length  150 non-null    float64\n",
      " 1   sepal_width   150 non-null    float64\n",
      " 2   petal_length  150 non-null    float64\n",
      " 3   petal_width   150 non-null    float64\n",
      " 4   class         150 non-null    object \n",
      "dtypes: float64(4), object(1)\n",
      "memory usage: 6.0+ KB\n"
     ]
    }
   ],
   "source": [
    "df.info()"
   ]
  },
  {
   "cell_type": "markdown",
   "id": "7b5348c8",
   "metadata": {},
   "source": [
    "q3: information on the numeric attributes?\n",
    "<br> a3: need scaling"
   ]
  },
  {
   "cell_type": "code",
   "execution_count": 5,
   "id": "23f3174f",
   "metadata": {},
   "outputs": [
    {
     "data": {
      "text/html": [
       "<div>\n",
       "<style scoped>\n",
       "    .dataframe tbody tr th:only-of-type {\n",
       "        vertical-align: middle;\n",
       "    }\n",
       "\n",
       "    .dataframe tbody tr th {\n",
       "        vertical-align: top;\n",
       "    }\n",
       "\n",
       "    .dataframe thead th {\n",
       "        text-align: right;\n",
       "    }\n",
       "</style>\n",
       "<table border=\"1\" class=\"dataframe\">\n",
       "  <thead>\n",
       "    <tr style=\"text-align: right;\">\n",
       "      <th></th>\n",
       "      <th>sepal_length</th>\n",
       "      <th>sepal_width</th>\n",
       "      <th>petal_length</th>\n",
       "      <th>petal_width</th>\n",
       "    </tr>\n",
       "  </thead>\n",
       "  <tbody>\n",
       "    <tr>\n",
       "      <th>count</th>\n",
       "      <td>150.000000</td>\n",
       "      <td>150.000000</td>\n",
       "      <td>150.000000</td>\n",
       "      <td>150.000000</td>\n",
       "    </tr>\n",
       "    <tr>\n",
       "      <th>mean</th>\n",
       "      <td>5.843333</td>\n",
       "      <td>3.057333</td>\n",
       "      <td>3.758000</td>\n",
       "      <td>1.199333</td>\n",
       "    </tr>\n",
       "    <tr>\n",
       "      <th>std</th>\n",
       "      <td>0.828066</td>\n",
       "      <td>0.435866</td>\n",
       "      <td>1.765298</td>\n",
       "      <td>0.762238</td>\n",
       "    </tr>\n",
       "    <tr>\n",
       "      <th>min</th>\n",
       "      <td>4.300000</td>\n",
       "      <td>2.000000</td>\n",
       "      <td>1.000000</td>\n",
       "      <td>0.100000</td>\n",
       "    </tr>\n",
       "    <tr>\n",
       "      <th>25%</th>\n",
       "      <td>5.100000</td>\n",
       "      <td>2.800000</td>\n",
       "      <td>1.600000</td>\n",
       "      <td>0.300000</td>\n",
       "    </tr>\n",
       "    <tr>\n",
       "      <th>50%</th>\n",
       "      <td>5.800000</td>\n",
       "      <td>3.000000</td>\n",
       "      <td>4.350000</td>\n",
       "      <td>1.300000</td>\n",
       "    </tr>\n",
       "    <tr>\n",
       "      <th>75%</th>\n",
       "      <td>6.400000</td>\n",
       "      <td>3.300000</td>\n",
       "      <td>5.100000</td>\n",
       "      <td>1.800000</td>\n",
       "    </tr>\n",
       "    <tr>\n",
       "      <th>max</th>\n",
       "      <td>7.900000</td>\n",
       "      <td>4.400000</td>\n",
       "      <td>6.900000</td>\n",
       "      <td>2.500000</td>\n",
       "    </tr>\n",
       "  </tbody>\n",
       "</table>\n",
       "</div>"
      ],
      "text/plain": [
       "       sepal_length  sepal_width  petal_length  petal_width\n",
       "count    150.000000   150.000000    150.000000   150.000000\n",
       "mean       5.843333     3.057333      3.758000     1.199333\n",
       "std        0.828066     0.435866      1.765298     0.762238\n",
       "min        4.300000     2.000000      1.000000     0.100000\n",
       "25%        5.100000     2.800000      1.600000     0.300000\n",
       "50%        5.800000     3.000000      4.350000     1.300000\n",
       "75%        6.400000     3.300000      5.100000     1.800000\n",
       "max        7.900000     4.400000      6.900000     2.500000"
      ]
     },
     "execution_count": 5,
     "metadata": {},
     "output_type": "execute_result"
    }
   ],
   "source": [
    "df.describe()"
   ]
  },
  {
   "cell_type": "code",
   "execution_count": 6,
   "id": "a7279418",
   "metadata": {},
   "outputs": [
    {
     "data": {
      "image/png": "[encoded data removed]",
      "text/plain": [
       "<Figure size 1440x1080 with 4 Axes>"
      ]
     },
     "metadata": {
      "needs_background": "light"
     },
     "output_type": "display_data"
    }
   ],
   "source": [
    "df.hist(bins=50, figsize=(20,15)) \n",
    "plt.show()"
   ]
  },
  {
   "cell_type": "markdown",
   "id": "16193810",
   "metadata": {},
   "source": [
    "q4: correlations across attributes?\n",
    "<br>a4: there's some pretty high correlation on sepal_length-petal_length, sepal_length-petal_width, petal_length-petal_width -> what to do with this though? does this mean I can opt to use 2 attributes only - petal_length and sepal_width?"
   ]
  },
  {
   "cell_type": "code",
   "execution_count": 7,
   "id": "870d7ce1",
   "metadata": {},
   "outputs": [
    {
     "data": {
      "image/png": "[encoded data removed]",
      "text/plain": [
       "<Figure size 432x288 with 2 Axes>"
      ]
     },
     "metadata": {
      "needs_background": "light"
     },
     "output_type": "display_data"
    }
   ],
   "source": [
    "corrMatrix = df.corr()\n",
    "sn.heatmap(corrMatrix, annot=True)\n",
    "plt.show()"
   ]
  },
  {
   "cell_type": "code",
   "execution_count": null,
   "id": "1ce91d80",
   "metadata": {},
   "outputs": [],
   "source": []
  },
  {
   "cell_type": "code",
   "execution_count": null,
   "id": "e17e538e",
   "metadata": {},
   "outputs": [],
   "source": []
  },
  {
   "cell_type": "code",
   "execution_count": null,
   "id": "a5037bc4",
   "metadata": {},
   "outputs": [],
   "source": []
  },
  {
   "cell_type": "markdown",
   "id": "2b4338c7",
   "metadata": {},
   "source": [
    "B. Data Cleaning"
   ]
  },
  {
   "cell_type": "code",
   "execution_count": null,
   "id": "a757dd9d",
   "metadata": {},
   "outputs": [],
   "source": []
  },
  {
   "cell_type": "code",
   "execution_count": null,
   "id": "aae03f5e",
   "metadata": {},
   "outputs": [],
   "source": []
  },
  {
   "cell_type": "code",
   "execution_count": null,
   "id": "70ad70e9",
   "metadata": {},
   "outputs": [],
   "source": []
  },
  {
   "cell_type": "markdown",
   "id": "13419031",
   "metadata": {},
   "source": [
    "C. Data Sampling"
   ]
  },
  {
   "cell_type": "code",
   "execution_count": 8,
   "id": "789012dc",
   "metadata": {},
   "outputs": [],
   "source": [
    "from sklearn.model_selection import train_test_split\n",
    "train_set, test_set = train_test_split(df, test_size=0.3, random_state=42)"
   ]
  },
  {
   "cell_type": "code",
   "execution_count": null,
   "id": "072745d9",
   "metadata": {},
   "outputs": [],
   "source": []
  },
  {
   "cell_type": "code",
   "execution_count": null,
   "id": "c7a80d00",
   "metadata": {},
   "outputs": [],
   "source": []
  },
  {
   "cell_type": "code",
   "execution_count": null,
   "id": "73a58109",
   "metadata": {},
   "outputs": [],
   "source": []
  },
  {
   "cell_type": "markdown",
   "id": "b0432d8c",
   "metadata": {},
   "source": [
    "D. Model Training and Testing"
   ]
  },
  {
   "cell_type": "code",
   "execution_count": 9,
   "id": "b811b283",
   "metadata": {},
   "outputs": [],
   "source": [
    "from sklearn.preprocessing import LabelEncoder"
   ]
  },
  {
   "cell_type": "code",
   "execution_count": 10,
   "id": "c5844718",
   "metadata": {},
   "outputs": [],
   "source": [
    "y_train = train_set[\"class\"].to_numpy()\n",
    "y_train_encoded = LabelEncoder().fit_transform(y_train)\n",
    "y_test = test_set[\"class\"].to_numpy()\n",
    "y_test_encoded = LabelEncoder().fit_transform(y_test)\n",
    "X_train = train_set[[\"sepal_length\", \"sepal_width\", \"petal_length\", \"petal_width\"]].to_numpy()\n",
    "X_test = test_set[[\"sepal_length\", \"sepal_width\", \"petal_length\", \"petal_width\"]].to_numpy()"
   ]
  },
  {
   "cell_type": "code",
   "execution_count": 11,
   "id": "fbdb471d",
   "metadata": {},
   "outputs": [],
   "source": [
    "# 1\n",
    "from sklearn.linear_model import LogisticRegression\n",
    "lr = LogisticRegression(solver='lbfgs', max_iter=200)\n",
    "lr.fit(X_train, y_train_encoded)\n",
    "y_pred_lr = lr.predict(X_test)"
   ]
  },
  {
   "cell_type": "code",
   "execution_count": 12,
   "id": "e5c78859",
   "metadata": {},
   "outputs": [],
   "source": [
    "# 2\n",
    "from sklearn.naive_bayes import GaussianNB\n",
    "nb = GaussianNB()\n",
    "nb.fit(X_train, y_train_encoded)\n",
    "y_pred_nb = nb.predict(X_test)"
   ]
  },
  {
   "cell_type": "code",
   "execution_count": 13,
   "id": "b0a4b3a5",
   "metadata": {},
   "outputs": [],
   "source": [
    "# 3\n",
    "from sklearn.linear_model import SGDClassifier\n",
    "sgd = SGDClassifier(loss='modified_huber', shuffle=True, random_state=101)\n",
    "sgd.fit(X_train, y_train_encoded)\n",
    "y_pred_sgd = sgd.predict(X_test)"
   ]
  },
  {
   "cell_type": "code",
   "execution_count": 14,
   "id": "9bb7b6a6",
   "metadata": {},
   "outputs": [],
   "source": [
    "# 4\n",
    "from sklearn.neighbors import KNeighborsClassifier\n",
    "knn = KNeighborsClassifier(n_neighbors=15)\n",
    "knn.fit(X_train, y_train_encoded)\n",
    "y_pred_knn = knn.predict(X_test)"
   ]
  },
  {
   "cell_type": "code",
   "execution_count": 15,
   "id": "430876fb",
   "metadata": {},
   "outputs": [],
   "source": [
    "# 5\n",
    "from sklearn.tree import DecisionTreeClassifier\n",
    "dtree = DecisionTreeClassifier(max_depth=10, random_state=101,\n",
    "                               max_features=None, min_samples_leaf=15\n",
    "                              )\n",
    "dtree.fit(X_train, y_train_encoded)\n",
    "y_pred_dtree = dtree.predict(X_test)"
   ]
  },
  {
   "cell_type": "code",
   "execution_count": 16,
   "id": "7988dbe7",
   "metadata": {},
   "outputs": [],
   "source": [
    "# 6\n",
    "from sklearn.ensemble import RandomForestClassifier\n",
    "rfm = RandomForestClassifier(\n",
    "    n_estimators=70, oob_score=True, n_jobs=-1,\n",
    "    random_state=101, max_features=None, min_samples_leaf=30\n",
    "                            )\n",
    "rfm.fit(X_train, y_train_encoded)\n",
    "y_pred_rfm = rfm.predict(X_test)"
   ]
  },
  {
   "cell_type": "code",
   "execution_count": 17,
   "id": "a519c281",
   "metadata": {},
   "outputs": [],
   "source": [
    "# 7\n",
    "from sklearn.svm import SVC\n",
    "svm = SVC(kernel=\"linear\", C=0.025, random_state=101)\n",
    "svm.fit(X_train, y_train_encoded)\n",
    "y_pred_svm = svm.predict(X_test)"
   ]
  },
  {
   "cell_type": "code",
   "execution_count": null,
   "id": "7daa204f",
   "metadata": {},
   "outputs": [],
   "source": []
  },
  {
   "cell_type": "code",
   "execution_count": null,
   "id": "80d405d0",
   "metadata": {},
   "outputs": [],
   "source": []
  },
  {
   "cell_type": "code",
   "execution_count": null,
   "id": "325d7728",
   "metadata": {},
   "outputs": [],
   "source": []
  },
  {
   "cell_type": "markdown",
   "id": "1be792c5",
   "metadata": {},
   "source": [
    "E. Model Assessment"
   ]
  },
  {
   "cell_type": "code",
   "execution_count": 18,
   "id": "302c595c",
   "metadata": {},
   "outputs": [],
   "source": [
    "from sklearn.metrics import confusion_matrix"
   ]
  },
  {
   "cell_type": "code",
   "execution_count": 19,
   "id": "112355e5",
   "metadata": {},
   "outputs": [
    {
     "data": {
      "text/plain": [
       "array([[19,  0,  0],\n",
       "       [ 0, 13,  0],\n",
       "       [ 0,  0, 13]])"
      ]
     },
     "execution_count": 19,
     "metadata": {},
     "output_type": "execute_result"
    }
   ],
   "source": [
    "confusion_matrix(y_test_encoded, y_pred_lr)"
   ]
  },
  {
   "cell_type": "code",
   "execution_count": 20,
   "id": "f12fda59",
   "metadata": {},
   "outputs": [
    {
     "data": {
      "text/plain": [
       "array([[19,  0,  0],\n",
       "       [ 0, 12,  1],\n",
       "       [ 0,  0, 13]])"
      ]
     },
     "execution_count": 20,
     "metadata": {},
     "output_type": "execute_result"
    }
   ],
   "source": [
    "confusion_matrix(y_test_encoded, y_pred_nb)"
   ]
  },
  {
   "cell_type": "code",
   "execution_count": 21,
   "id": "6f581c93",
   "metadata": {},
   "outputs": [
    {
     "data": {
      "text/plain": [
       "array([[19,  0,  0],\n",
       "       [ 2,  2,  9],\n",
       "       [ 0,  0, 13]])"
      ]
     },
     "execution_count": 21,
     "metadata": {},
     "output_type": "execute_result"
    }
   ],
   "source": [
    "confusion_matrix(y_test_encoded, y_pred_sgd)"
   ]
  },
  {
   "cell_type": "code",
   "execution_count": 22,
   "id": "b25712c4",
   "metadata": {},
   "outputs": [
    {
     "data": {
      "text/plain": [
       "array([[19,  0,  0],\n",
       "       [ 0, 13,  0],\n",
       "       [ 0,  0, 13]])"
      ]
     },
     "execution_count": 22,
     "metadata": {},
     "output_type": "execute_result"
    }
   ],
   "source": [
    "confusion_matrix(y_test_encoded, y_pred_knn)"
   ]
  },
  {
   "cell_type": "code",
   "execution_count": 23,
   "id": "0c9a758a",
   "metadata": {},
   "outputs": [
    {
     "data": {
      "text/plain": [
       "array([[19,  0,  0],\n",
       "       [ 0, 12,  1],\n",
       "       [ 0,  0, 13]])"
      ]
     },
     "execution_count": 23,
     "metadata": {},
     "output_type": "execute_result"
    }
   ],
   "source": [
    "confusion_matrix(y_test_encoded, y_pred_dtree)"
   ]
  },
  {
   "cell_type": "code",
   "execution_count": 24,
   "id": "db17aed7",
   "metadata": {},
   "outputs": [
    {
     "data": {
      "text/plain": [
       "array([[19,  0,  0],\n",
       "       [ 3,  1,  9],\n",
       "       [ 0,  0, 13]])"
      ]
     },
     "execution_count": 24,
     "metadata": {},
     "output_type": "execute_result"
    }
   ],
   "source": [
    "confusion_matrix(y_test_encoded, y_pred_rfm)"
   ]
  },
  {
   "cell_type": "code",
   "execution_count": 25,
   "id": "875f8b9d",
   "metadata": {},
   "outputs": [
    {
     "data": {
      "text/plain": [
       "array([[19,  0,  0],\n",
       "       [ 0, 13,  0],\n",
       "       [ 0,  0, 13]])"
      ]
     },
     "execution_count": 25,
     "metadata": {},
     "output_type": "execute_result"
    }
   ],
   "source": [
    "confusion_matrix(y_test_encoded, y_pred_svm)"
   ]
  },
  {
   "cell_type": "code",
   "execution_count": null,
   "id": "34fd2773",
   "metadata": {},
   "outputs": [],
   "source": []
  },
  {
   "cell_type": "code",
   "execution_count": null,
   "id": "bcafaed3",
   "metadata": {},
   "outputs": [],
   "source": []
  },
  {
   "cell_type": "code",
   "execution_count": null,
   "id": "a48a7ee7",
   "metadata": {},
   "outputs": [],
   "source": []
  },
  {
   "cell_type": "markdown",
   "id": "842ea0b6",
   "metadata": {},
   "source": [
    "Note: I'm not entirely sure if I can do any tweaking with this dataset since it's too small. I guess I can do scaling and cross validation so that I can try those out"
   ]
  },
  {
   "cell_type": "markdown",
   "id": "7aaefb2a",
   "metadata": {},
   "source": [
    "D. E. Model Training, Testing, Evaluation (with cross-validation)"
   ]
  },
  {
   "cell_type": "code",
   "execution_count": 26,
   "id": "5403d3fe",
   "metadata": {},
   "outputs": [],
   "source": [
    "from sklearn.model_selection import cross_val_score\n",
    "from numpy import mean"
   ]
  },
  {
   "cell_type": "code",
   "execution_count": 27,
   "id": "74b10bca",
   "metadata": {},
   "outputs": [
    {
     "name": "stdout",
     "output_type": "stream",
     "text": [
      "0.9619047619047618 0.9047619047619048 1.0\n"
     ]
    }
   ],
   "source": [
    "# 1\n",
    "m1 = cross_val_score(lr, X_train, y_train_encoded, cv=5, scoring=\"accuracy\")\n",
    "print(mean(m1), min(m1), max(m1))"
   ]
  },
  {
   "cell_type": "code",
   "execution_count": 28,
   "id": "b5cd2b1c",
   "metadata": {},
   "outputs": [
    {
     "name": "stdout",
     "output_type": "stream",
     "text": [
      "0.9333333333333333 0.9047619047619048 1.0\n"
     ]
    }
   ],
   "source": [
    "# 2\n",
    "m2 = cross_val_score(nb, X_train, y_train_encoded, cv=5, scoring=\"accuracy\")\n",
    "print(mean(m2), min(m2), max(m2))"
   ]
  },
  {
   "cell_type": "code",
   "execution_count": 29,
   "id": "1c70e21e",
   "metadata": {},
   "outputs": [
    {
     "name": "stdout",
     "output_type": "stream",
     "text": [
      "0.780952380952381 0.6666666666666666 0.9047619047619048\n"
     ]
    }
   ],
   "source": [
    "# 3\n",
    "m3 = cross_val_score(sgd, X_train, y_train_encoded, cv=5, scoring=\"accuracy\")\n",
    "print(mean(m3), min(m3), max(m3))"
   ]
  },
  {
   "cell_type": "code",
   "execution_count": 30,
   "id": "232d7cf2",
   "metadata": {},
   "outputs": [
    {
     "name": "stdout",
     "output_type": "stream",
     "text": [
      "0.9333333333333333 0.8571428571428571 1.0\n"
     ]
    }
   ],
   "source": [
    "# 4\n",
    "m4 = cross_val_score(knn, X_train, y_train_encoded, cv=5, scoring=\"accuracy\")\n",
    "print(mean(m4), min(m4), max(m4))"
   ]
  },
  {
   "cell_type": "code",
   "execution_count": 31,
   "id": "88329a47",
   "metadata": {},
   "outputs": [
    {
     "name": "stdout",
     "output_type": "stream",
     "text": [
      "0.9142857142857144 0.8571428571428571 0.9523809523809523\n"
     ]
    }
   ],
   "source": [
    "# 5\n",
    "m5 = cross_val_score(dtree, X_train, y_train_encoded, cv=5, scoring=\"accuracy\")\n",
    "print(mean(m5), min(m5), max(m5))"
   ]
  },
  {
   "cell_type": "code",
   "execution_count": 32,
   "id": "ea4d2b11",
   "metadata": {},
   "outputs": [
    {
     "name": "stdout",
     "output_type": "stream",
     "text": [
      "0.3333333333333333 0.3333333333333333 0.3333333333333333\n"
     ]
    }
   ],
   "source": [
    "# 6\n",
    "m6 = cross_val_score(rfm, X_train, y_train_encoded, cv=5, scoring=\"accuracy\")\n",
    "print(mean(m6), min(m6), max(m6))"
   ]
  },
  {
   "cell_type": "code",
   "execution_count": 33,
   "id": "ff3546a6",
   "metadata": {},
   "outputs": [
    {
     "name": "stdout",
     "output_type": "stream",
     "text": [
      "0.9238095238095237 0.8571428571428571 1.0\n"
     ]
    }
   ],
   "source": [
    "# 7\n",
    "m7 = cross_val_score(svm, X_train, y_train_encoded, cv=5, scoring=\"accuracy\")\n",
    "print(mean(m7), min(m7), max(m7))"
   ]
  },
  {
   "cell_type": "code",
   "execution_count": null,
   "id": "58293ee2",
   "metadata": {},
   "outputs": [],
   "source": []
  },
  {
   "cell_type": "markdown",
   "id": "7ce2d907",
   "metadata": {},
   "source": [
    "Based on the cross validation and checking the accuracies, KNN is the best model but I think I need a better way to assess this. <br>Second and third best models are Logistic Regression and Naive Bayes, respectively."
   ]
  },
  {
   "cell_type": "code",
   "execution_count": null,
   "id": "1ca4fb90",
   "metadata": {},
   "outputs": [],
   "source": []
  },
  {
   "cell_type": "code",
   "execution_count": null,
   "id": "7b42bebf",
   "metadata": {},
   "outputs": [],
   "source": []
  },
  {
   "cell_type": "code",
   "execution_count": null,
   "id": "d4fd2651",
   "metadata": {},
   "outputs": [],
   "source": []
  },
  {
   "cell_type": "markdown",
   "id": "7d0f3a2e",
   "metadata": {},
   "source": [
    "Let's do some feature scaling."
   ]
  },
  {
   "cell_type": "code",
   "execution_count": 69,
   "id": "8189c571",
   "metadata": {},
   "outputs": [],
   "source": [
    "from sklearn.preprocessing import MinMaxScaler, StandardScaler\n",
    "minmax_scaler = MinMaxScaler()\n",
    "X_train_minmax_scaler = minmax_scaler.fit_transform(X_train)\n",
    "standard_scaler = StandardScaler()\n",
    "X_train_standard_scaler = standard_scaler.fit_transform(X_train)"
   ]
  },
  {
   "cell_type": "code",
   "execution_count": null,
   "id": "ef3baa63",
   "metadata": {},
   "outputs": [],
   "source": []
  },
  {
   "cell_type": "code",
   "execution_count": 70,
   "id": "916fca25",
   "metadata": {},
   "outputs": [
    {
     "name": "stdout",
     "output_type": "stream",
     "text": [
      "0.9619047619047618 0.9047619047619048 1.0\n"
     ]
    }
   ],
   "source": [
    "# 1\n",
    "m1 = cross_val_score(lr, X_train, y_train_encoded, cv=5, scoring=\"accuracy\")\n",
    "print(mean(m1), min(m1), max(m1))"
   ]
  },
  {
   "cell_type": "code",
   "execution_count": 71,
   "id": "623afb8e",
   "metadata": {},
   "outputs": [
    {
     "name": "stdout",
     "output_type": "stream",
     "text": [
      "0.9333333333333333 0.8571428571428571 1.0\n"
     ]
    }
   ],
   "source": [
    "# 1\n",
    "m1 = cross_val_score(lr, X_train_minmax_scaler, y_train_encoded, cv=5, scoring=\"accuracy\")\n",
    "print(mean(m1), min(m1), max(m1))"
   ]
  },
  {
   "cell_type": "code",
   "execution_count": 72,
   "id": "f04262aa",
   "metadata": {},
   "outputs": [
    {
     "name": "stdout",
     "output_type": "stream",
     "text": [
      "0.9428571428571428 0.9047619047619048 1.0\n"
     ]
    }
   ],
   "source": [
    "# 1\n",
    "m1 = cross_val_score(lr, X_train_standard_scaler, y_train_encoded, cv=5, scoring=\"accuracy\")\n",
    "print(mean(m1), min(m1), max(m1))"
   ]
  },
  {
   "cell_type": "code",
   "execution_count": null,
   "id": "958cdd1d",
   "metadata": {},
   "outputs": [],
   "source": []
  },
  {
   "cell_type": "code",
   "execution_count": 73,
   "id": "c3e97005",
   "metadata": {},
   "outputs": [
    {
     "name": "stdout",
     "output_type": "stream",
     "text": [
      "0.9333333333333333 0.9047619047619048 1.0\n"
     ]
    }
   ],
   "source": [
    "# 2\n",
    "m2 = cross_val_score(nb, X_train, y_train_encoded, cv=5, scoring=\"accuracy\")\n",
    "print(mean(m2), min(m2), max(m2))"
   ]
  },
  {
   "cell_type": "code",
   "execution_count": 74,
   "id": "6671e025",
   "metadata": {},
   "outputs": [
    {
     "name": "stdout",
     "output_type": "stream",
     "text": [
      "0.9333333333333333 0.9047619047619048 1.0\n"
     ]
    }
   ],
   "source": [
    "# 2\n",
    "m2 = cross_val_score(nb, X_train_minmax_scaler, y_train_encoded, cv=5, scoring=\"accuracy\")\n",
    "print(mean(m2), min(m2), max(m2))"
   ]
  },
  {
   "cell_type": "code",
   "execution_count": 75,
   "id": "a2ec2d57",
   "metadata": {},
   "outputs": [
    {
     "name": "stdout",
     "output_type": "stream",
     "text": [
      "0.9333333333333333 0.9047619047619048 1.0\n"
     ]
    }
   ],
   "source": [
    "# 2\n",
    "m2 = cross_val_score(nb, X_train_standard_scaler, y_train_encoded, cv=5, scoring=\"accuracy\")\n",
    "print(mean(m2), min(m2), max(m2))"
   ]
  },
  {
   "cell_type": "code",
   "execution_count": null,
   "id": "51f5338d",
   "metadata": {},
   "outputs": [],
   "source": []
  },
  {
   "cell_type": "code",
   "execution_count": 76,
   "id": "6a7c69d9",
   "metadata": {},
   "outputs": [
    {
     "name": "stdout",
     "output_type": "stream",
     "text": [
      "0.9333333333333333 0.8571428571428571 1.0\n"
     ]
    }
   ],
   "source": [
    "# 4\n",
    "m4 = cross_val_score(knn, X_train, y_train_encoded, cv=5, scoring=\"accuracy\")\n",
    "print(mean(m4), min(m4), max(m4))"
   ]
  },
  {
   "cell_type": "code",
   "execution_count": 77,
   "id": "bf7b42c1",
   "metadata": {},
   "outputs": [
    {
     "name": "stdout",
     "output_type": "stream",
     "text": [
      "0.9428571428571428 0.9047619047619048 1.0\n"
     ]
    }
   ],
   "source": [
    "# 4\n",
    "m4 = cross_val_score(knn, X_train_minmax_scaler, y_train_encoded, cv=5, scoring=\"accuracy\")\n",
    "print(mean(m4), min(m4), max(m4))"
   ]
  },
  {
   "cell_type": "code",
   "execution_count": 78,
   "id": "5b7c8871",
   "metadata": {},
   "outputs": [
    {
     "name": "stdout",
     "output_type": "stream",
     "text": [
      "0.8857142857142856 0.8095238095238095 1.0\n"
     ]
    }
   ],
   "source": [
    "# 4\n",
    "m4 = cross_val_score(knn, X_train_standard_scaler, y_train_encoded, cv=5, scoring=\"accuracy\")\n",
    "print(mean(m4), min(m4), max(m4))"
   ]
  },
  {
   "cell_type": "code",
   "execution_count": null,
   "id": "70f01db2",
   "metadata": {},
   "outputs": [],
   "source": []
  },
  {
   "cell_type": "markdown",
   "id": "a9800a2d",
   "metadata": {},
   "source": [
    "Using the MinMax Scaler, Logistic regression performance went done. Naive Bayes stayed the same. KNN improved.\n",
    "<br>Using the Standard Scaler, Logistic regression performance went done. Naive Bayes stayed the same. KNN performance went down."
   ]
  },
  {
   "cell_type": "code",
   "execution_count": null,
   "id": "c0799045",
   "metadata": {},
   "outputs": [],
   "source": []
  },
  {
   "cell_type": "code",
   "execution_count": null,
   "id": "15f730b5",
   "metadata": {},
   "outputs": [],
   "source": []
  },
  {
   "cell_type": "code",
   "execution_count": null,
   "id": "8375f706",
   "metadata": {},
   "outputs": [],
   "source": []
  },
  {
   "cell_type": "markdown",
   "id": "84545cd7",
   "metadata": {},
   "source": [
    "How about we do some feature selection?"
   ]
  },
  {
   "cell_type": "code",
   "execution_count": 87,
   "id": "32618e52",
   "metadata": {},
   "outputs": [],
   "source": [
    "from sklearn.preprocessing import MinMaxScaler, StandardScaler\n",
    "minmax_scaler = MinMaxScaler()\n",
    "X_train_minmax_scaler_2features = minmax_scaler.fit_transform(train_set[[\"sepal_width\", \"petal_length\"]].to_numpy())\n",
    "standard_scaler = StandardScaler()\n",
    "X_train_standard_scaler_2features = standard_scaler.fit_transform(train_set[[\"sepal_width\", \"petal_length\"]].to_numpy())"
   ]
  },
  {
   "cell_type": "code",
   "execution_count": null,
   "id": "93212790",
   "metadata": {},
   "outputs": [],
   "source": []
  },
  {
   "cell_type": "code",
   "execution_count": 88,
   "id": "f8a96e5a",
   "metadata": {},
   "outputs": [
    {
     "name": "stdout",
     "output_type": "stream",
     "text": [
      "0.9619047619047618 0.9047619047619048 1.0\n"
     ]
    }
   ],
   "source": [
    "# 1\n",
    "m1 = cross_val_score(lr, X_train, y_train_encoded, cv=5, scoring=\"accuracy\")\n",
    "print(mean(m1), min(m1), max(m1))"
   ]
  },
  {
   "cell_type": "code",
   "execution_count": 89,
   "id": "6102575c",
   "metadata": {},
   "outputs": [
    {
     "name": "stdout",
     "output_type": "stream",
     "text": [
      "0.8476190476190476 0.7619047619047619 0.9047619047619048\n"
     ]
    }
   ],
   "source": [
    "# 1\n",
    "m1 = cross_val_score(lr, X_train_minmax_scaler_2features, y_train_encoded, cv=5, scoring=\"accuracy\")\n",
    "print(mean(m1), min(m1), max(m1))"
   ]
  },
  {
   "cell_type": "code",
   "execution_count": 90,
   "id": "a7381d9a",
   "metadata": {},
   "outputs": [
    {
     "name": "stdout",
     "output_type": "stream",
     "text": [
      "0.8952380952380953 0.8095238095238095 1.0\n"
     ]
    }
   ],
   "source": [
    "# 1\n",
    "m1 = cross_val_score(lr, X_train_standard_scaler_2features, y_train_encoded, cv=5, scoring=\"accuracy\")\n",
    "print(mean(m1), min(m1), max(m1))"
   ]
  },
  {
   "cell_type": "code",
   "execution_count": null,
   "id": "b8f3f797",
   "metadata": {},
   "outputs": [],
   "source": []
  },
  {
   "cell_type": "code",
   "execution_count": 91,
   "id": "bd1db33e",
   "metadata": {},
   "outputs": [
    {
     "name": "stdout",
     "output_type": "stream",
     "text": [
      "0.9333333333333333 0.9047619047619048 1.0\n"
     ]
    }
   ],
   "source": [
    "# 2\n",
    "m2 = cross_val_score(nb, X_train, y_train_encoded, cv=5, scoring=\"accuracy\")\n",
    "print(mean(m2), min(m2), max(m2))"
   ]
  },
  {
   "cell_type": "code",
   "execution_count": 92,
   "id": "96b7ffe6",
   "metadata": {},
   "outputs": [
    {
     "name": "stdout",
     "output_type": "stream",
     "text": [
      "0.8857142857142856 0.8095238095238095 1.0\n"
     ]
    }
   ],
   "source": [
    "# 2\n",
    "m2 = cross_val_score(nb, X_train_minmax_scaler_2features, y_train_encoded, cv=5, scoring=\"accuracy\")\n",
    "print(mean(m2), min(m2), max(m2))"
   ]
  },
  {
   "cell_type": "code",
   "execution_count": 93,
   "id": "7cf7c415",
   "metadata": {},
   "outputs": [
    {
     "name": "stdout",
     "output_type": "stream",
     "text": [
      "0.8857142857142856 0.8095238095238095 1.0\n"
     ]
    }
   ],
   "source": [
    "# 2\n",
    "m2 = cross_val_score(nb, X_train_standard_scaler_2features, y_train_encoded, cv=5, scoring=\"accuracy\")\n",
    "print(mean(m2), min(m2), max(m2))"
   ]
  },
  {
   "cell_type": "code",
   "execution_count": null,
   "id": "060fefca",
   "metadata": {},
   "outputs": [],
   "source": []
  },
  {
   "cell_type": "code",
   "execution_count": 96,
   "id": "1ee57ba7",
   "metadata": {},
   "outputs": [
    {
     "name": "stdout",
     "output_type": "stream",
     "text": [
      "0.9333333333333333 0.8571428571428571 1.0\n"
     ]
    }
   ],
   "source": [
    "# 4\n",
    "m4 = cross_val_score(knn, X_train, y_train_encoded, cv=5, scoring=\"accuracy\")\n",
    "print(mean(m4), min(m4), max(m4))"
   ]
  },
  {
   "cell_type": "code",
   "execution_count": 97,
   "id": "b015cf4d",
   "metadata": {},
   "outputs": [
    {
     "name": "stdout",
     "output_type": "stream",
     "text": [
      "0.9333333333333333 0.8571428571428571 1.0\n"
     ]
    }
   ],
   "source": [
    "# 4\n",
    "m4 = cross_val_score(knn, X_train_minmax_scaler_2features, y_train_encoded, cv=5, scoring=\"accuracy\")\n",
    "print(mean(m4), min(m4), max(m4))"
   ]
  },
  {
   "cell_type": "code",
   "execution_count": 98,
   "id": "cc4e4f3d",
   "metadata": {},
   "outputs": [
    {
     "name": "stdout",
     "output_type": "stream",
     "text": [
      "0.8857142857142856 0.7619047619047619 1.0\n"
     ]
    }
   ],
   "source": [
    "# 4\n",
    "m4 = cross_val_score(knn, X_train_standard_scaler_2features, y_train_encoded, cv=5, scoring=\"accuracy\")\n",
    "print(mean(m4), min(m4), max(m4))"
   ]
  },
  {
   "cell_type": "code",
   "execution_count": null,
   "id": "5faa7d90",
   "metadata": {},
   "outputs": [],
   "source": []
  },
  {
   "cell_type": "markdown",
   "id": "03863fbf",
   "metadata": {},
   "source": [
    "Cutting down the features did not improve model performance."
   ]
  },
  {
   "cell_type": "code",
   "execution_count": null,
   "id": "88cd204b",
   "metadata": {},
   "outputs": [],
   "source": []
  },
  {
   "cell_type": "code",
   "execution_count": null,
   "id": "883e6d1e",
   "metadata": {},
   "outputs": [],
   "source": []
  },
  {
   "cell_type": "markdown",
   "id": "5a45db91",
   "metadata": {},
   "source": [
    "None of what I thought will work to improve this worked :D"
   ]
  },
  {
   "cell_type": "markdown",
   "id": "41aeb4b1",
   "metadata": {},
   "source": [
    "So far Logistic Regression without much data cleaning provides best numbers: average 96%, min 90%, max 100%."
   ]
  },
  {
   "cell_type": "code",
   "execution_count": null,
   "id": "37e9e7be",
   "metadata": {},
   "outputs": [],
   "source": []
  }
 ],
 "metadata": {
  "kernelspec": {
   "display_name": "Python 3",
   "language": "python",
   "name": "python3"
  },
  "language_info": {
   "codemirror_mode": {
    "name": "ipython",
    "version": 3
   },
   "file_extension": ".py",
   "mimetype": "text/x-python",
   "name": "python",
   "nbconvert_exporter": "python",
   "pygments_lexer": "ipython3",
   "version": "3.8.8"
  }
 },
 "nbformat": 4,
 "nbformat_minor": 5
}
